{
 "cells": [
  {
   "cell_type": "markdown",
   "metadata": {},
   "source": [
    "# Quick Find"
   ]
  },
  {
   "cell_type": "markdown",
   "metadata": {},
   "source": [
    "1. Create an array with the initial id is the element itself\n",
    "\n",
    "2. Connected(a,b): 2 elements are connected if they have the same id\n",
    "\n",
    "3. Merge(a,b): Merge element a to element b by changing id of a and other elements that have the same id of a to id of b\n",
    "\n",
    "Disadvantage: Take a long time to change the id of elements in the same group of a (Operation 3)"
   ]
  },
  {
   "cell_type": "code",
   "execution_count": 33,
   "metadata": {},
   "outputs": [],
   "source": [
    "class quickFindUF:\n",
    "    \n",
    "    id = []\n",
    "    \n",
    "    def __init__(self, n=None, arr=None):\n",
    "        \n",
    "        #If there is the array is not created\n",
    "        if arr == None:\n",
    "            #We construct an array\n",
    "            self.id = self.__construct_array(n)\n",
    "        else:\n",
    "            self.id = arr\n",
    "    \n",
    "    def __construct_array(self, n):\n",
    "        \n",
    "        arr = []\n",
    "        \n",
    "        #Set every element of array size n to its own group\n",
    "        for i in range(n):\n",
    "            arr.append(i)\n",
    "        \n",
    "        return arr\n",
    "    \n",
    "    #Now we compare the value of 2 sets to see if they are in the same group\n",
    "\n",
    "    def connected(self, i1, i2):\n",
    "        return self.id[i1] == self.id[i2]\n",
    "    \n",
    "    #merge 2 sets if they are not in the same group\n",
    "    #i1 and other elements in the same group as i1 will merge into the group of i2\n",
    "    def merge(self, i1, i2):\n",
    "        g1 = self.id[i1]\n",
    "        g2 = self.id[i2]\n",
    "        \n",
    "        if self.connected(i1, i2) == False:\n",
    "            for i in range(len(self.id)):\n",
    "                if self.id[i] == g1:\n",
    "                    self.id[i] = g2\n",
    "                    \n",
    "                 "
   ]
  },
  {
   "cell_type": "code",
   "execution_count": 39,
   "metadata": {},
   "outputs": [
    {
     "data": {
      "text/plain": [
       "True"
      ]
     },
     "execution_count": 39,
     "metadata": {},
     "output_type": "execute_result"
    }
   ],
   "source": [
    "eles = quickFindUF(10)\n",
    "\n",
    "eles.merge(0,9)\n",
    "\n",
    "eles.merge(1,3)\n",
    "\n",
    "eles.merge(1,0)\n",
    "\n",
    "eles.connected(3,9)"
   ]
  },
  {
   "cell_type": "code",
   "execution_count": null,
   "metadata": {},
   "outputs": [],
   "source": []
  }
 ],
 "metadata": {
  "kernelspec": {
   "display_name": "Python 3",
   "language": "python",
   "name": "python3"
  },
  "language_info": {
   "codemirror_mode": {
    "name": "ipython",
    "version": 3
   },
   "file_extension": ".py",
   "mimetype": "text/x-python",
   "name": "python",
   "nbconvert_exporter": "python",
   "pygments_lexer": "ipython3",
   "version": "3.7.6"
  }
 },
 "nbformat": 4,
 "nbformat_minor": 4
}

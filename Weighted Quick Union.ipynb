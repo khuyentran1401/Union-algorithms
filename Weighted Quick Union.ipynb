{
 "cells": [
  {
   "cell_type": "markdown",
   "metadata": {},
   "source": [
    "# Weighted Quick Union"
   ]
  },
  {
   "cell_type": "markdown",
   "metadata": {},
   "source": [
    "1. Create an id array and a weight array\n",
    "2. Connected(a,b): 2 elements are connected if the leaders of the 2 elements are the same\n",
    "3. FindLeader(a): an element is a leader if its id is itself.\n",
    "4. Merge(a,b): Merge the element whose leader has less weight to the other element. Merge by changing the id of the leader of a to b.\n",
    "\n",
    "Advantage: more balanced tree compared to weighted quick union. Thus, faster to find the leader"
   ]
  },
  {
   "cell_type": "code",
   "execution_count": 9,
   "metadata": {},
   "outputs": [],
   "source": [
    "class weightedQuickUnion:\n",
    "    \n",
    "    id = []\n",
    "    weight = []\n",
    "    \n",
    "    def __init__(self, n=None, arr=None):\n",
    "        \n",
    "        self.weight = [1]*n\n",
    "        #If there is the array is not created\n",
    "        if arr == None:\n",
    "            #We construct an array\n",
    "            self.id = self.__construct_array(n)\n",
    "        else:\n",
    "            self.id = arr\n",
    "    \n",
    "    def __construct_array(self, n):\n",
    "        \n",
    "        arr = []\n",
    "        \n",
    "        #Set every element of array size n to its own group\n",
    "        for i in range(n):\n",
    "            arr.append(i)\n",
    "        \n",
    "        return arr\n",
    "    \n",
    "    \n",
    "    def connected(self, i1, i2):\n",
    "                \n",
    "        #Compare the leader of two numbers\n",
    "        leader1 = self.findLeader(i1)\n",
    "        leader2 = self.findLeader(i2)\n",
    "        \n",
    "        return leader1 == leader2\n",
    "    \n",
    "    def findLeader(self, i):\n",
    "        while self.id[i] != i:\n",
    "            i = self.id[i]\n",
    "        return i\n",
    "            \n",
    "                    \n",
    "    \n",
    "    def merge(self, i1, i2):\n",
    "        \n",
    "        #Merge the leader of i1 to i2\n",
    "        \n",
    "        if self.connected(i1, i2) == False:\n",
    "            \n",
    "            leader1 = self.findLeader(i1)\n",
    "            leader2 = self.findLeader(i2)\n",
    "            \n",
    "            #If weight of i1 > i2, then leader of i2 wil connect to i1\n",
    "            if self.weight[leader1] > self.weight[leader2]:\n",
    "        \n",
    "                self.id[leader2] = i1\n",
    "                self.weight[leader1] += self.weight[leader2]\n",
    "                \n",
    "                \n",
    "            \n",
    "            #If weight of i1 <= i2, then leadear of i1 will connect to i2\n",
    "            else:\n",
    "            \n",
    "                self.id[leader1] = i2\n",
    "                self.weight[leader2] += self.weight[leader1]"
   ]
  },
  {
   "cell_type": "code",
   "execution_count": 10,
   "metadata": {},
   "outputs": [
    {
     "data": {
      "text/plain": [
       "True"
      ]
     },
     "execution_count": 10,
     "metadata": {},
     "output_type": "execute_result"
    }
   ],
   "source": [
    "eles = weightedQuickUnion(10)\n",
    "\n",
    "eles.merge(0,9)\n",
    "\n",
    "eles.merge(1,3)\n",
    "\n",
    "eles.merge(1,0)\n",
    "\n",
    "eles.connected(3,9)"
   ]
  },
  {
   "cell_type": "code",
   "execution_count": null,
   "metadata": {},
   "outputs": [],
   "source": []
  }
 ],
 "metadata": {
  "kernelspec": {
   "display_name": "Python 3",
   "language": "python",
   "name": "python3"
  },
  "language_info": {
   "codemirror_mode": {
    "name": "ipython",
    "version": 3
   },
   "file_extension": ".py",
   "mimetype": "text/x-python",
   "name": "python",
   "nbconvert_exporter": "python",
   "pygments_lexer": "ipython3",
   "version": "3.7.6"
  }
 },
 "nbformat": 4,
 "nbformat_minor": 4
}
